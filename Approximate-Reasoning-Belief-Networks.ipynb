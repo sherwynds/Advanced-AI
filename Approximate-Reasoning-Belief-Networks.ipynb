{
 "cells": [
  {
   "cell_type": "markdown",
   "metadata": {},
   "source": [
    "# CPSC 422 - Assignment 2\n",
    "\n",
    "## Question 2\n",
    "\n",
    "This question relates to the following belief network where we are estimating the probability $P(r|s,w)$. In other words, we are estimating the probability of Rain ($r$) given that the Sprinkler is on ($S=T$) and the there is Wet Grass ($W=T$) using rejection sampling and likelihood weighting. The results of these samples are in `rs_1.csv` and `lw_1.csv` in the `data` folder.\n",
    "\n",
    "![Weather Network](img/A2Q2.png) "
   ]
  },
  {
   "cell_type": "markdown",
   "metadata": {},
   "source": [
    "### Part A: Calculate and graph $P(r|s,w)$ versus the number of samples N using rejection sampling. Approximate $P(r|s,w)$ using 100000 samples."
   ]
  },
  {
   "cell_type": "markdown",
   "metadata": {},
   "source": [
    "Note, each line in `rs_1.csv` (rejection sampling results) contains a sample:\n",
    "* -1 means the sample has been rejected\n",
    "* 1 means $R=T$\n",
    "* 2 means $R=F$"
   ]
  },
  {
   "cell_type": "code",
   "execution_count": 1,
   "metadata": {},
   "outputs": [
    {
     "data": {
      "text/html": [
       "<div>\n",
       "<style scoped>\n",
       "    .dataframe tbody tr th:only-of-type {\n",
       "        vertical-align: middle;\n",
       "    }\n",
       "\n",
       "    .dataframe tbody tr th {\n",
       "        vertical-align: top;\n",
       "    }\n",
       "\n",
       "    .dataframe thead th {\n",
       "        text-align: right;\n",
       "    }\n",
       "</style>\n",
       "<table border=\"1\" class=\"dataframe\">\n",
       "  <thead>\n",
       "    <tr style=\"text-align: right;\">\n",
       "      <th></th>\n",
       "      <th>sample</th>\n",
       "    </tr>\n",
       "  </thead>\n",
       "  <tbody>\n",
       "    <tr>\n",
       "      <th>1</th>\n",
       "      <td>-1</td>\n",
       "    </tr>\n",
       "    <tr>\n",
       "      <th>2</th>\n",
       "      <td>2</td>\n",
       "    </tr>\n",
       "    <tr>\n",
       "      <th>3</th>\n",
       "      <td>-1</td>\n",
       "    </tr>\n",
       "    <tr>\n",
       "      <th>4</th>\n",
       "      <td>-1</td>\n",
       "    </tr>\n",
       "    <tr>\n",
       "      <th>5</th>\n",
       "      <td>-1</td>\n",
       "    </tr>\n",
       "  </tbody>\n",
       "</table>\n",
       "</div>"
      ],
      "text/plain": [
       "   sample\n",
       "1      -1\n",
       "2       2\n",
       "3      -1\n",
       "4      -1\n",
       "5      -1"
      ]
     },
     "execution_count": 1,
     "metadata": {},
     "output_type": "execute_result"
    }
   ],
   "source": [
    "import pandas as pd\n",
    "rs_1 = pd.read_csv('data/rs_1.csv', names=['sample'], header=None)\n",
    "rs_1.index += 1\n",
    "rs_1.head()"
   ]
  },
  {
   "cell_type": "markdown",
   "metadata": {},
   "source": [
    "The following function takes a set of samples and computes the $P(r|s,w)$ for each sample $N$ using samples $1:N$:"
   ]
  },
  {
   "cell_type": "code",
   "execution_count": 2,
   "metadata": {},
   "outputs": [],
   "source": [
    "def computeProbability(samples):\n",
    "    p = []\n",
    "    trueSamples = 0\n",
    "    countedSamples = 0\n",
    "    for i in range(len(samples)):\n",
    "        sample = samples[i]\n",
    "        if i == 0 and sample == -1 or sample == -1 and p[i-1] == None:\n",
    "            p.append(None)                                               # SHOULD THIS BE A UNIFORM DISTRIBUTION OF 0.5 ON EACH?\n",
    "        elif sample == -1:\n",
    "            p.append(p[i-1])\n",
    "        else:\n",
    "            trueSamples += (sample==1)\n",
    "            countedSamples += 1\n",
    "            p.append(trueSamples/countedSamples)\n",
    "    return p"
   ]
  },
  {
   "cell_type": "markdown",
   "metadata": {},
   "source": [
    "Therefore, we can calculate the following:"
   ]
  },
  {
   "cell_type": "code",
   "execution_count": 3,
   "metadata": {},
   "outputs": [
    {
     "data": {
      "text/html": [
       "<div>\n",
       "<style scoped>\n",
       "    .dataframe tbody tr th:only-of-type {\n",
       "        vertical-align: middle;\n",
       "    }\n",
       "\n",
       "    .dataframe tbody tr th {\n",
       "        vertical-align: top;\n",
       "    }\n",
       "\n",
       "    .dataframe thead th {\n",
       "        text-align: right;\n",
       "    }\n",
       "</style>\n",
       "<table border=\"1\" class=\"dataframe\">\n",
       "  <thead>\n",
       "    <tr style=\"text-align: right;\">\n",
       "      <th></th>\n",
       "      <th>sample</th>\n",
       "      <th>P(r|s,w)</th>\n",
       "    </tr>\n",
       "  </thead>\n",
       "  <tbody>\n",
       "    <tr>\n",
       "      <th>1</th>\n",
       "      <td>-1</td>\n",
       "      <td>NaN</td>\n",
       "    </tr>\n",
       "    <tr>\n",
       "      <th>2</th>\n",
       "      <td>2</td>\n",
       "      <td>0.0</td>\n",
       "    </tr>\n",
       "    <tr>\n",
       "      <th>3</th>\n",
       "      <td>-1</td>\n",
       "      <td>0.0</td>\n",
       "    </tr>\n",
       "    <tr>\n",
       "      <th>4</th>\n",
       "      <td>-1</td>\n",
       "      <td>0.0</td>\n",
       "    </tr>\n",
       "    <tr>\n",
       "      <th>5</th>\n",
       "      <td>-1</td>\n",
       "      <td>0.0</td>\n",
       "    </tr>\n",
       "  </tbody>\n",
       "</table>\n",
       "</div>"
      ],
      "text/plain": [
       "   sample  P(r|s,w)\n",
       "1      -1       NaN\n",
       "2       2       0.0\n",
       "3      -1       0.0\n",
       "4      -1       0.0\n",
       "5      -1       0.0"
      ]
     },
     "execution_count": 3,
     "metadata": {},
     "output_type": "execute_result"
    }
   ],
   "source": [
    "rs_1['P(r|s,w)'] = computeProbability(list(rs_1['sample']))\n",
    "rs_1.head()"
   ]
  },
  {
   "cell_type": "markdown",
   "metadata": {},
   "source": [
    "Finally, we plot the results on a logarithmic axis to examine behavior for small sample sizes:"
   ]
  },
  {
   "cell_type": "code",
   "execution_count": 4,
   "metadata": {},
   "outputs": [
    {
     "data": {
      "image/png": "[encoded data removed]",
      "text/plain": [
       "<Figure size 432x288 with 1 Axes>"
      ]
     },
     "metadata": {
      "needs_background": "light"
     },
     "output_type": "display_data"
    }
   ],
   "source": [
    "import matplotlib.pyplot as plt\n",
    "plt.plot(rs_1.index, rs_1['P(r|s,w)'], linewidth=0.5)\n",
    "plt.xscale('log',base=10)\n",
    "plt.title(\"Approximation of P(r|s,w) after N used samples using rejection sampling\");\n",
    "plt.ylabel(\"P(r|s,w)\");\n",
    "plt.xlabel(\"Number of used samples N\");"
   ]
  },
  {
   "cell_type": "markdown",
   "metadata": {},
   "source": [
    "**Therefore:** The rejection sampling algorithm's approximation of $P(r|s,w)$ after 100000 samples is:"
   ]
  },
  {
   "cell_type": "code",
   "execution_count": 5,
   "metadata": {},
   "outputs": [
    {
     "data": {
      "text/plain": [
       "0.3198136868505912"
      ]
     },
     "execution_count": 5,
     "metadata": {},
     "output_type": "execute_result"
    }
   ],
   "source": [
    "rs_1['P(r|s,w)'].iloc[-1]"
   ]
  },
  {
   "cell_type": "markdown",
   "metadata": {},
   "source": [
    "### Part B: Using Hoeffding's inequality, derive the tightest bound $\\epsilon$ such that $P(|s-p|>\\epsilon)<0.05$. How many accepted samples are there? What is the value of $\\epsilon$ for that number of accepted samples? Add upper and lower confidence bounds using $s \\pm \\epsilon$."
   ]
  },
  {
   "cell_type": "markdown",
   "metadata": {},
   "source": [
    "Here, $p$ represents the true $P(r|s,w)$, $s$ represents the approximation of $p$ after rejection sampling on $n$ accepted samples.\n",
    "\n",
    "Hoeffding's inequality is: $2e^{-2n\\epsilon^2} < \\delta$. Solving for $\\epsilon$:\n",
    "\n",
    "$2e^{-2n\\epsilon^2} < \\delta$\n",
    "\n",
    "$\\frac{1}{e^{2n\\epsilon^2}} < \\frac{\\delta}{2}$\n",
    "\n",
    "$\\frac{2}{\\delta} < e^{2n\\epsilon^2}$\n",
    "\n",
    "$\\ln{(\\frac{2}{\\delta})} < 2n\\epsilon^2$\n",
    "\n",
    "$\\frac{\\ln{(\\frac{2}{\\delta})}}{2n} < \\epsilon^2$\n",
    "\n",
    "$\\sqrt{\\frac{\\ln{(\\frac{2}{\\delta})}}{2n}} < \\epsilon$\n",
    "\n",
    "Note that we know $\\delta = 0.05$ as specified in the question.\n",
    "\n",
    "The following function implements the mathematical derivation above:"
   ]
  },
  {
   "cell_type": "code",
   "execution_count": 6,
   "metadata": {},
   "outputs": [],
   "source": [
    "import math\n",
    "def computeOneEpsilon(n, delta=0.05):\n",
    "    return math.sqrt(math.log(2/delta)/(2*n))"
   ]
  },
  {
   "cell_type": "markdown",
   "metadata": {},
   "source": [
    "The following function takes a set of samples and computes $\\epsilon$ for each sample $N$ using samples $1:N$:"
   ]
  },
  {
   "cell_type": "code",
   "execution_count": 7,
   "metadata": {},
   "outputs": [],
   "source": [
    "def computeEpsilon(samples):\n",
    "    e = []\n",
    "    countedSamples = 0\n",
    "    for i in range(len(samples)):\n",
    "        sample = samples[i]\n",
    "        if i == 0 and sample == -1 or sample == -1 and e[i-1] == None:\n",
    "            e.append(None)\n",
    "        elif sample == -1:\n",
    "            e.append(e[i-1])\n",
    "        else:\n",
    "            countedSamples += 1\n",
    "            e.append(computeOneEpsilon(countedSamples))\n",
    "    return e"
   ]
  },
  {
   "cell_type": "markdown",
   "metadata": {},
   "source": [
    "We define another function to compute the error bounds $s \\pm \\epsilon$:"
   ]
  },
  {
   "cell_type": "code",
   "execution_count": 8,
   "metadata": {},
   "outputs": [],
   "source": [
    "def computeErrorBounds(approximations, epsilons):\n",
    "    upper = []\n",
    "    lower = []\n",
    "    assert(len(approximations)==len(epsilons))\n",
    "    for i in range(len(approximations)):\n",
    "        s = approximations[i]\n",
    "        e = epsilons[i]\n",
    "        if math.isnan(s) or math.isnan(e):\n",
    "            upper.append(None)\n",
    "            lower.append(None)\n",
    "        else:\n",
    "            upper.append(min(1,s+e)) # We bound the values of our error bars, because it doesn't\n",
    "            lower.append(max(0,s-e)) # make sense to have a probability > 1 or < 0.\n",
    "    return upper,lower"
   ]
  },
  {
   "cell_type": "markdown",
   "metadata": {},
   "source": [
    "These functions can now be used to add error bounds to our approximations:"
   ]
  },
  {
   "cell_type": "code",
   "execution_count": 9,
   "metadata": {},
   "outputs": [
    {
     "data": {
      "text/html": [
       "<div>\n",
       "<style scoped>\n",
       "    .dataframe tbody tr th:only-of-type {\n",
       "        vertical-align: middle;\n",
       "    }\n",
       "\n",
       "    .dataframe tbody tr th {\n",
       "        vertical-align: top;\n",
       "    }\n",
       "\n",
       "    .dataframe thead th {\n",
       "        text-align: right;\n",
       "    }\n",
       "</style>\n",
       "<table border=\"1\" class=\"dataframe\">\n",
       "  <thead>\n",
       "    <tr style=\"text-align: right;\">\n",
       "      <th></th>\n",
       "      <th>sample</th>\n",
       "      <th>P(r|s,w)</th>\n",
       "      <th>epsilon</th>\n",
       "      <th>upperBound</th>\n",
       "      <th>lowerBound</th>\n",
       "    </tr>\n",
       "  </thead>\n",
       "  <tbody>\n",
       "    <tr>\n",
       "      <th>1</th>\n",
       "      <td>-1</td>\n",
       "      <td>NaN</td>\n",
       "      <td>NaN</td>\n",
       "      <td>NaN</td>\n",
       "      <td>NaN</td>\n",
       "    </tr>\n",
       "    <tr>\n",
       "      <th>2</th>\n",
       "      <td>2</td>\n",
       "      <td>0.0</td>\n",
       "      <td>1.358102</td>\n",
       "      <td>1.0</td>\n",
       "      <td>0.0</td>\n",
       "    </tr>\n",
       "    <tr>\n",
       "      <th>3</th>\n",
       "      <td>-1</td>\n",
       "      <td>0.0</td>\n",
       "      <td>1.358102</td>\n",
       "      <td>1.0</td>\n",
       "      <td>0.0</td>\n",
       "    </tr>\n",
       "    <tr>\n",
       "      <th>4</th>\n",
       "      <td>-1</td>\n",
       "      <td>0.0</td>\n",
       "      <td>1.358102</td>\n",
       "      <td>1.0</td>\n",
       "      <td>0.0</td>\n",
       "    </tr>\n",
       "    <tr>\n",
       "      <th>5</th>\n",
       "      <td>-1</td>\n",
       "      <td>0.0</td>\n",
       "      <td>1.358102</td>\n",
       "      <td>1.0</td>\n",
       "      <td>0.0</td>\n",
       "    </tr>\n",
       "  </tbody>\n",
       "</table>\n",
       "</div>"
      ],
      "text/plain": [
       "   sample  P(r|s,w)   epsilon  upperBound  lowerBound\n",
       "1      -1       NaN       NaN         NaN         NaN\n",
       "2       2       0.0  1.358102         1.0         0.0\n",
       "3      -1       0.0  1.358102         1.0         0.0\n",
       "4      -1       0.0  1.358102         1.0         0.0\n",
       "5      -1       0.0  1.358102         1.0         0.0"
      ]
     },
     "execution_count": 9,
     "metadata": {},
     "output_type": "execute_result"
    }
   ],
   "source": [
    "rs_1['epsilon'] = computeEpsilon(list(rs_1['sample']))\n",
    "upperBound, lowerBound = computeErrorBounds(list(rs_1['P(r|s,w)']),list(rs_1['epsilon']))\n",
    "rs_1['upperBound'] = upperBound\n",
    "rs_1['lowerBound'] = lowerBound\n",
    "rs_1.head()"
   ]
  },
  {
   "cell_type": "markdown",
   "metadata": {},
   "source": [
    "Finally, we can plot the approximations of rejection sampling with error bounds:"
   ]
  },
  {
   "cell_type": "code",
   "execution_count": 10,
   "metadata": {},
   "outputs": [
    {
     "data": {
      "image/png": "[encoded data removed]",
      "text/plain": [
       "<Figure size 432x288 with 1 Axes>"
      ]
     },
     "metadata": {
      "needs_background": "light"
     },
     "output_type": "display_data"
    }
   ],
   "source": [
    "plt.plot(rs_1.index, rs_1['P(r|s,w)'], linewidth=0.5)\n",
    "plt.plot(rs_1.index, rs_1['upperBound'], linewidth=0.5, c='g')\n",
    "plt.plot(rs_1.index, rs_1['lowerBound'], linewidth=0.5, c='r')\n",
    "plt.xscale('log',base=10)\n",
    "plt.title(\"Approximation of P(r|s,w) after N used samples using rejection sampling\");\n",
    "plt.ylabel(\"P(r|s,w)\");\n",
    "plt.xlabel(\"Number of used samples N\");\n",
    "plt.legend(labels=['Approximation', 'Upper Bound', 'Lower Bound']);"
   ]
  },
  {
   "cell_type": "markdown",
   "metadata": {},
   "source": [
    "**Therefore:** The number of accepted samples $n$ and respective value of $\\epsilon$ for that $n$ is:"
   ]
  },
  {
   "cell_type": "code",
   "execution_count": 11,
   "metadata": {},
   "outputs": [
    {
     "name": "stdout",
     "output_type": "stream",
     "text": [
      "Number of accepted samples: 27910\n",
      "Respective value of epsilon: 0.008129284366775905\n"
     ]
    }
   ],
   "source": [
    "acceptedSamples = rs_1['sample'].value_counts().loc[1] + rs_1['sample'].value_counts().loc[2]\n",
    "print(f\"Number of accepted samples: {acceptedSamples}\")\n",
    "print(f\"Respective value of epsilon: {computeOneEpsilon(acceptedSamples)}\")"
   ]
  },
  {
   "cell_type": "markdown",
   "metadata": {},
   "source": [
    "### Part C: Calculate and graph $P(r|s,w)$ versus the number of samples N using likelihood weighting. Approximate $P(r|s,w)$ using 100000 samples. Does likelihood weighting or rejection sampling converge faster?"
   ]
  },
  {
   "cell_type": "markdown",
   "metadata": {},
   "source": [
    "Note, each line in `lw_1.csv` (likelihood weighting) contains a sample:\n",
    "* The first column denotes the sample, where 1 means $R=T$ and 2 means $R=F$\n",
    "* The second column denotes the weight of the sample"
   ]
  },
  {
   "cell_type": "code",
   "execution_count": 12,
   "metadata": {},
   "outputs": [
    {
     "data": {
      "text/html": [
       "<div>\n",
       "<style scoped>\n",
       "    .dataframe tbody tr th:only-of-type {\n",
       "        vertical-align: middle;\n",
       "    }\n",
       "\n",
       "    .dataframe tbody tr th {\n",
       "        vertical-align: top;\n",
       "    }\n",
       "\n",
       "    .dataframe thead th {\n",
       "        text-align: right;\n",
       "    }\n",
       "</style>\n",
       "<table border=\"1\" class=\"dataframe\">\n",
       "  <thead>\n",
       "    <tr style=\"text-align: right;\">\n",
       "      <th></th>\n",
       "      <th>sample</th>\n",
       "      <th>weight</th>\n",
       "    </tr>\n",
       "  </thead>\n",
       "  <tbody>\n",
       "    <tr>\n",
       "      <th>1</th>\n",
       "      <td>2</td>\n",
       "      <td>0.450</td>\n",
       "    </tr>\n",
       "    <tr>\n",
       "      <th>2</th>\n",
       "      <td>1</td>\n",
       "      <td>0.495</td>\n",
       "    </tr>\n",
       "    <tr>\n",
       "      <th>3</th>\n",
       "      <td>2</td>\n",
       "      <td>0.090</td>\n",
       "    </tr>\n",
       "    <tr>\n",
       "      <th>4</th>\n",
       "      <td>2</td>\n",
       "      <td>0.450</td>\n",
       "    </tr>\n",
       "    <tr>\n",
       "      <th>5</th>\n",
       "      <td>2</td>\n",
       "      <td>0.450</td>\n",
       "    </tr>\n",
       "  </tbody>\n",
       "</table>\n",
       "</div>"
      ],
      "text/plain": [
       "   sample  weight\n",
       "1       2   0.450\n",
       "2       1   0.495\n",
       "3       2   0.090\n",
       "4       2   0.450\n",
       "5       2   0.450"
      ]
     },
     "execution_count": 12,
     "metadata": {},
     "output_type": "execute_result"
    }
   ],
   "source": [
    "lw_1 = pd.read_csv('data/lw_1.csv', names=['sample','weight'], header=None)\n",
    "lw_1.index += 1\n",
    "lw_1.head()"
   ]
  },
  {
   "cell_type": "markdown",
   "metadata": {},
   "source": [
    "Just like before, the following function takes a set of samples and computes the $P(r|s,w)$ for each sample $N$ using samples $1:N$:"
   ]
  },
  {
   "cell_type": "code",
   "execution_count": 13,
   "metadata": {},
   "outputs": [],
   "source": [
    "def computeProbabilityLikelihoodWeighting(samples, weights):\n",
    "    p = []\n",
    "    trueSamples = 0\n",
    "    falseSamples = 0\n",
    "    assert(len(samples)==len(weights))\n",
    "    for i in range(len(samples)):\n",
    "        sample = samples[i]\n",
    "        weight = weights[i]\n",
    "        if sample == 1:\n",
    "            trueSamples += weight\n",
    "        elif sample == 2:\n",
    "            falseSamples += weight\n",
    "        p.append(trueSamples/(trueSamples+falseSamples))\n",
    "    return p"
   ]
  },
  {
   "cell_type": "markdown",
   "metadata": {},
   "source": [
    "Therefore, we can compute the following:"
   ]
  },
  {
   "cell_type": "code",
   "execution_count": 14,
   "metadata": {},
   "outputs": [
    {
     "data": {
      "text/html": [
       "<div>\n",
       "<style scoped>\n",
       "    .dataframe tbody tr th:only-of-type {\n",
       "        vertical-align: middle;\n",
       "    }\n",
       "\n",
       "    .dataframe tbody tr th {\n",
       "        vertical-align: top;\n",
       "    }\n",
       "\n",
       "    .dataframe thead th {\n",
       "        text-align: right;\n",
       "    }\n",
       "</style>\n",
       "<table border=\"1\" class=\"dataframe\">\n",
       "  <thead>\n",
       "    <tr style=\"text-align: right;\">\n",
       "      <th></th>\n",
       "      <th>sample</th>\n",
       "      <th>weight</th>\n",
       "      <th>P(r|s,w)</th>\n",
       "    </tr>\n",
       "  </thead>\n",
       "  <tbody>\n",
       "    <tr>\n",
       "      <th>1</th>\n",
       "      <td>2</td>\n",
       "      <td>0.450</td>\n",
       "      <td>0.000000</td>\n",
       "    </tr>\n",
       "    <tr>\n",
       "      <th>2</th>\n",
       "      <td>1</td>\n",
       "      <td>0.495</td>\n",
       "      <td>0.523810</td>\n",
       "    </tr>\n",
       "    <tr>\n",
       "      <th>3</th>\n",
       "      <td>2</td>\n",
       "      <td>0.090</td>\n",
       "      <td>0.478261</td>\n",
       "    </tr>\n",
       "    <tr>\n",
       "      <th>4</th>\n",
       "      <td>2</td>\n",
       "      <td>0.450</td>\n",
       "      <td>0.333333</td>\n",
       "    </tr>\n",
       "    <tr>\n",
       "      <th>5</th>\n",
       "      <td>2</td>\n",
       "      <td>0.450</td>\n",
       "      <td>0.255814</td>\n",
       "    </tr>\n",
       "  </tbody>\n",
       "</table>\n",
       "</div>"
      ],
      "text/plain": [
       "   sample  weight  P(r|s,w)\n",
       "1       2   0.450  0.000000\n",
       "2       1   0.495  0.523810\n",
       "3       2   0.090  0.478261\n",
       "4       2   0.450  0.333333\n",
       "5       2   0.450  0.255814"
      ]
     },
     "execution_count": 14,
     "metadata": {},
     "output_type": "execute_result"
    }
   ],
   "source": [
    "lw_1['P(r|s,w)'] = computeProbabilityLikelihoodWeighting(list(lw_1['sample']), list(lw_1['weight']))\n",
    "lw_1.head()"
   ]
  },
  {
   "cell_type": "markdown",
   "metadata": {},
   "source": [
    "Finally, we can plot the approximations made by likelihood weighting:"
   ]
  },
  {
   "cell_type": "code",
   "execution_count": 15,
   "metadata": {},
   "outputs": [
    {
     "data": {
      "image/png": "[encoded data removed]",
      "text/plain": [
       "<Figure size 432x288 with 1 Axes>"
      ]
     },
     "metadata": {
      "needs_background": "light"
     },
     "output_type": "display_data"
    }
   ],
   "source": [
    "plt.plot(lw_1.index, lw_1['P(r|s,w)'], linewidth=0.5)\n",
    "plt.xscale('log',base=10)\n",
    "plt.title(\"Approximation of P(r|s,w) after N used samples using likelihood weighting\");\n",
    "plt.ylabel(\"P(r|s,w)\");\n",
    "plt.xlabel(\"Number of used samples N\");"
   ]
  },
  {
   "cell_type": "code",
   "execution_count": 16,
   "metadata": {},
   "outputs": [
    {
     "name": "stdout",
     "output_type": "stream",
     "text": [
      "After 100000 iterations, the approximation of P(r|s,w) is: 0.3217877911582522, which is similar to the value from rejection sampling\n"
     ]
    }
   ],
   "source": [
    "print(f\"After 100000 iterations, the approximation of P(r|s,w) is: {lw_1['P(r|s,w)'].iloc[-1]}, which is similar to the value from rejection sampling\")"
   ]
  },
  {
   "cell_type": "markdown",
   "metadata": {},
   "source": [
    "**Therefore:** Likelihood weighting seems to converge faster given that it gets closer to final approximation after $10^3$ used samples, whereas rejection sampling seems to get close after $10^4$ used samples. This makes sense, because every value of likelihood weighting is used to better approximate $P(r|s,w)$, whereas in rejection sampling, values that are rejected (-1) add to the number of used samples, but do not improve the approximation."
   ]
  }
 ],
 "metadata": {
  "kernelspec": {
   "display_name": "Python 3",
   "language": "python",
   "name": "python3"
  },
  "language_info": {
   "codemirror_mode": {
    "name": "ipython",
    "version": 3
   },
   "file_extension": ".py",
   "mimetype": "text/x-python",
   "name": "python",
   "nbconvert_exporter": "python",
   "pygments_lexer": "ipython3",
   "version": "3.8.5"
  }
 },
 "nbformat": 4,
 "nbformat_minor": 4
}
