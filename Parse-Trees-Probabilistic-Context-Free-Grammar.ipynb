{
 "cells": [
  {
   "cell_type": "markdown",
   "metadata": {},
   "source": [
    "# Parse Trees and Probabilistic Context-Free Grammar"
   ]
  },
  {
   "cell_type": "markdown",
   "metadata": {},
   "source": [
    "The goal of this program is, given treebank, generate a probabilistic context-free grammar using the frequency of rules used in the treebank."
   ]
  },
  {
   "cell_type": "markdown",
   "metadata": {},
   "source": [
    "## Reading the treebank\n",
    "\n",
    "The input treebank will be specified in a format similar to `data/sample-corpus`, which contains the following sample treebank:\n",
    "\n",
    "```\n",
    "(S (NP /John/) (VP (VP (V /plays/) (NP /soccer/)) (PP (P /at/) (NP /school/))))\n",
    "(S (NP /John/) (VP (VP (V /plays/) (NP /soccer/)) (PP (P /at/) (NP /school/))))\n",
    "(S (NP /John/) (VP (VP (V /plays/) (NP /soccer/)) (PP (P /at/) (NP /school/))))\n",
    "(S (NP /John/) (VP (V /plays/) (NP (NP /soccer/) (PP (P /at/) (NP /school/)))))\n",
    "(S (NP /John/) (VP (V /plays/) (NP /soccer/)))\n",
    "(S (NP /John/) (VP (V /plays/) (NP /soccer/)))\n",
    "(S (NP /John/) (VP (V /plays/) (NP /soccer/)))\n",
    "(S (NP /John/) (VP (V /plays/) (NP /soccer/)))\n",
    "(S (NP /John/) (VP (V /plays/) (NP /soccer/)))\n",
    "(S (NP /John/) (VP (V /plays/) (NP /soccer/)))\n",
    "```\n",
    "\n",
    "The following code will read each line (tree) into a tree object, so it can be programatically analyzed.\n",
    "\n",
    "First, we read each line of input."
   ]
  },
  {
   "cell_type": "code",
   "execution_count": 1,
   "metadata": {},
   "outputs": [],
   "source": [
    "with open('data/sample-corpus') as f:\n",
    "    # We get rid of any / as we assume words do not contain /, \n",
    "    # and this makes parsing easier with nltk\n",
    "    lines = [line.rstrip().replace(\"/\",\"\") for line in f]"
   ]
  },
  {
   "cell_type": "markdown",
   "metadata": {},
   "source": [
    "We then convert each line (tree) into a tree object, using `nltk`."
   ]
  },
  {
   "cell_type": "code",
   "execution_count": 2,
   "metadata": {},
   "outputs": [],
   "source": [
    "from nltk import Tree\n",
    "treeBank = [Tree.fromstring(line) for line in lines]"
   ]
  },
  {
   "cell_type": "markdown",
   "metadata": {},
   "source": [
    "We can confirm this works by looking at the first line in our input treebank, and viewing its tree representation."
   ]
  },
  {
   "cell_type": "code",
   "execution_count": 3,
   "metadata": {},
   "outputs": [
    {
     "name": "stdout",
     "output_type": "stream",
     "text": [
      "(S (NP John) (VP (VP (V plays) (NP soccer)) (PP (P at) (NP school))))\n",
      "                 S                      \n",
      "  _______________|_____                  \n",
      " |                     VP               \n",
      " |           __________|_______          \n",
      " |          VP                 PP       \n",
      " |      ____|____           ___|____     \n",
      " NP    V         NP        P        NP  \n",
      " |     |         |         |        |    \n",
      "John plays     soccer      at     school\n",
      "\n"
     ]
    }
   ],
   "source": [
    "if not lines:\n",
    "    print(\"No Input!\")\n",
    "else:\n",
    "    print(lines[0])\n",
    "    treeBank[0].pretty_print()"
   ]
  },
  {
   "cell_type": "markdown",
   "metadata": {},
   "source": [
    "## Generating the Probablistic Context-Free Grammar\n",
    "\n",
    "Using the `treeBank`, we can generate a Probablistic Context-Free Grammar (PCFG) with the following code:"
   ]
  },
  {
   "cell_type": "code",
   "execution_count": 4,
   "metadata": {},
   "outputs": [],
   "source": [
    "nonTerminalCounts = {}\n",
    "ruleCounts = {}\n",
    "\n",
    "def parseTree(tree):    \n",
    "    #tree.pretty_print()\n",
    "    label = tree.label()\n",
    "    \n",
    "    # Parse each child\n",
    "    childrenString = \"\"\n",
    "    for child in tree:\n",
    "        if isinstance(child, str):\n",
    "            childrenString += f\" {child}\"\n",
    "        else:\n",
    "            childrenString += f\" {child.label()}\"\n",
    "            parseTree(child)\n",
    "    childrenString = childrenString[1:]\n",
    "    \n",
    "    # Update the count of this non-terminal\n",
    "    if label in nonTerminalCounts:\n",
    "        nonTerminalCounts[label] += 1\n",
    "    else:\n",
    "        nonTerminalCounts[label] = 1\n",
    "    \n",
    "    # Update the count of this rule\n",
    "    rule = (label, childrenString)\n",
    "    if rule in ruleCounts:\n",
    "        ruleCounts[rule] += 1\n",
    "    else:\n",
    "        ruleCounts[rule] = 1\n",
    "\n",
    "for tree in treeBank:\n",
    "    #tree.pretty_print()\n",
    "    parseTree(tree)"
   ]
  },
  {
   "cell_type": "code",
   "execution_count": 5,
   "metadata": {},
   "outputs": [
    {
     "data": {
      "text/plain": [
       "{'NP': 25, 'V': 10, 'VP': 13, 'P': 4, 'PP': 4, 'S': 10}"
      ]
     },
     "execution_count": 5,
     "metadata": {},
     "output_type": "execute_result"
    }
   ],
   "source": [
    "nonTerminalCounts"
   ]
  },
  {
   "cell_type": "code",
   "execution_count": 6,
   "metadata": {},
   "outputs": [
    {
     "data": {
      "text/plain": [
       "{('NP', 'John'): 10,\n",
       " ('V', 'plays'): 10,\n",
       " ('NP', 'soccer'): 10,\n",
       " ('VP', 'V NP'): 10,\n",
       " ('P', 'at'): 4,\n",
       " ('NP', 'school'): 4,\n",
       " ('PP', 'P NP'): 4,\n",
       " ('VP', 'VP PP'): 3,\n",
       " ('S', 'NP VP'): 10,\n",
       " ('NP', 'NP PP'): 1}"
      ]
     },
     "execution_count": 6,
     "metadata": {},
     "output_type": "execute_result"
    }
   ],
   "source": [
    "ruleCounts"
   ]
  },
  {
   "cell_type": "markdown",
   "metadata": {},
   "source": [
    "Finally, we can produce our PCFG."
   ]
  },
  {
   "cell_type": "code",
   "execution_count": 7,
   "metadata": {},
   "outputs": [
    {
     "data": {
      "text/plain": [
       "{'NP -> John': 0.4,\n",
       " 'V -> plays': 1.0,\n",
       " 'NP -> soccer': 0.4,\n",
       " 'VP -> V NP': 0.7692307692307693,\n",
       " 'P -> at': 1.0,\n",
       " 'NP -> school': 0.16,\n",
       " 'PP -> P NP': 1.0,\n",
       " 'VP -> VP PP': 0.23076923076923078,\n",
       " 'S -> NP VP': 1.0,\n",
       " 'NP -> NP PP': 0.04}"
      ]
     },
     "execution_count": 7,
     "metadata": {},
     "output_type": "execute_result"
    }
   ],
   "source": [
    "pcfg = {}\n",
    "for rule, count in ruleCounts.items():\n",
    "    pcfg[f\"{rule[0]} -> {rule[1]}\"] = count/nonTerminalCounts[rule[0]]\n",
    "pcfg"
   ]
  },
  {
   "cell_type": "code",
   "execution_count": null,
   "metadata": {},
   "outputs": [],
   "source": []
  }
 ],
 "metadata": {
  "kernelspec": {
   "display_name": "Python 3",
   "language": "python",
   "name": "python3"
  },
  "language_info": {
   "codemirror_mode": {
    "name": "ipython",
    "version": 3
   },
   "file_extension": ".py",
   "mimetype": "text/x-python",
   "name": "python",
   "nbconvert_exporter": "python",
   "pygments_lexer": "ipython3",
   "version": "3.8.5"
  }
 },
 "nbformat": 4,
 "nbformat_minor": 4
}
