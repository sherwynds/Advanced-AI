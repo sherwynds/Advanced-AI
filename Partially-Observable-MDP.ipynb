{
 "cells": [
  {
   "cell_type": "markdown",
   "metadata": {},
   "source": [
    "# CPSC 422 - Assignment 1\n",
    "\n",
    "## Question 3"
   ]
  },
  {
   "cell_type": "code",
   "execution_count": 1,
   "metadata": {},
   "outputs": [],
   "source": [
    "import numpy as np\n",
    "import copy\n",
    "from sympy import Matrix, init_printing # https://stackoverflow.com/questions/13214809/pretty-print-2d-python-list\n",
    "init_printing()"
   ]
  },
  {
   "cell_type": "code",
   "execution_count": 2,
   "metadata": {},
   "outputs": [],
   "source": [
    "class StateSpace:\n",
    "    \n",
    "    numRows = 3\n",
    "    numCols = 4\n",
    "    invalidSpaces = {(2,2)}\n",
    "    uniformProbability = 1/9\n",
    "\n",
    "    def __init__(self, actions, observations, startingState=None):\n",
    "        self.states = [[0, 0, 0, 0], [0, None, 0, 0], [0, 0, 0, 0]]\n",
    "        self.setInitialBeliefState(startingState)\n",
    "        self.priorStates = copy.deepcopy(self.states)\n",
    "        self.actions = actions\n",
    "        self.observations = observations\n",
    "        assert len(self.actions) == len(self.observations), \"Actions and observations must be of same length\"\n",
    "    \n",
    "    def computeBeliefStates(self):\n",
    "        for i in range(len(self.actions)):\n",
    "            self.updateBeliefStates(self.actions[i], self.observations[i])\n",
    "    \n",
    "    def updateBeliefStates(self, action, observation):\n",
    "        copyStates = copy.deepcopy(self.states)\n",
    "        for c in range(1,self.numCols+1):\n",
    "            for r in range(1,self.numRows+1):\n",
    "                state = (c,r)\n",
    "                if not self.stateIsValid(state):\n",
    "                    continue\n",
    "                neighbors = [(c,r+1), (c-1,r), (c,r-1), (c+1,r)]\n",
    "                sumOfPriorStates = 0\n",
    "                for neighbor in neighbors:\n",
    "                    if self.stateIsValid(neighbor):\n",
    "                        sumOfPriorStates += (self.getTransitionProbability(state, neighbor, action)*self.getPriorState(neighbor))\n",
    "                self.setState(state, self.getObservationProbability(observation,state)*sumOfPriorStates)\n",
    "        self.priorStates = copyStates\n",
    "        \n",
    "    def setInitialBeliefState(self, startingState):\n",
    "        if startingState == None:\n",
    "            for c in range(1,self.numCols+1):\n",
    "                for r in range(1, self.numRows+1):\n",
    "                    state = (c,r)\n",
    "                    if self.stateIsValid(state) and not self.stateIsTerminal(state):\n",
    "                        self.setState(state, self.uniformProbability)\n",
    "        elif not self.stateIsValid(startingState):\n",
    "            print(\"Could not set starting state:\")\n",
    "            return self.invalidStateError(startingState)\n",
    "        else:\n",
    "            for c in range(1,self.numCols+1):\n",
    "                for r in range(1,self.numRows+1):\n",
    "                    state = (c,r)\n",
    "                    if self.stateIsValid(state):\n",
    "                        self.setState(state, 0)\n",
    "            self.setState(startingState, 1)\n",
    "\n",
    "    def stateIsValid(self, state):\n",
    "        col = state[0]\n",
    "        row = state[1]\n",
    "        return col >= 1 and col <= self.numCols and row >= 1 and row <= self.numRows and state not in self.invalidSpaces\n",
    "\n",
    "    def invalidStateError(self, state):\n",
    "        print(f\"State ({state[0]}, {state[1]}) is invalid!\")\n",
    "        return None\n",
    "    \n",
    "    def stateIsTerminal(self, state):\n",
    "        if not self.stateIsValid(state):\n",
    "            print(\"Could not determine if state is terminal:\")\n",
    "            return self.invalidStateError(state)\n",
    "        return (state[0] == 4 and (state[1] == 2 or state[1] == 3))\n",
    "\n",
    "    def getState(self, state):\n",
    "        if not self.stateIsValid(state):\n",
    "            print(\"Could not get state:\")\n",
    "            return self.invalidStateError(state)\n",
    "        col = state[0]\n",
    "        row = state[1]\n",
    "        return (self.states[abs(row-self.numRows)][col-1])\n",
    "    \n",
    "    def getPriorState(self, state):\n",
    "        if not self.stateIsValid(state):\n",
    "            print(\"Could not get state from priorStates:\")\n",
    "            return self.invalidStateError(state)\n",
    "        col = state[0]\n",
    "        row = state[1]\n",
    "        return (self.priorStates[abs(row-self.numRows)][col-1])\n",
    "    \n",
    "    def getObservationProbability(self, observation, state):\n",
    "        if not self.stateIsValid(state):\n",
    "            print(\"Could not get observation probability:\")\n",
    "            return self.invalidStateError(state)\n",
    "        if observation == \"end\" and self.stateIsTerminal(state): return 1\n",
    "        elif observation == \"end\" or self.stateIsTerminal(state): return 0\n",
    "        elif observation == 1:\n",
    "            if state[0] == 3: return 0.9\n",
    "            else: return 0.1\n",
    "        elif observation == 2:\n",
    "            if state[0] == 3: return 0.1\n",
    "            else: return 0.9\n",
    "    \n",
    "    def getTransitionProbability(self, state, priorState, action):\n",
    "        if not self.stateIsValid(state):\n",
    "            print(\"Could not get transition probability - state error:\")\n",
    "            return self.invalidStateError(state)\n",
    "        elif not self.stateIsValid(priorState):\n",
    "            print(\"Could not get transition probability - priorState error:\")\n",
    "            return self.invalidStateError(priorState)\n",
    "        elif self.stateIsTerminal(priorState): return 0\n",
    "        if state == priorState:\n",
    "            sameStateTransitionTable = {\n",
    "                ((1,1),\"up\"): 0.1, ((1,1),\"left\"): 0.9, ((1,1),\"down\"): 0.9, ((1,1),\"right\"): 0.1,  # State (1,1)\n",
    "                ((2,1),\"up\"): 0.8, ((2,1),\"left\"): 0.2, ((2,1),\"down\"): 0.8, ((2,1),\"right\"): 0.2,  # State (2,1)\n",
    "                ((3,1),\"up\"): 0, ((3,1),\"left\"): 0.1, ((3,1),\"down\"): 0.8, ((3,1),\"right\"): 0.1,    # State (3,1)\n",
    "                ((4,1),\"up\"): 0.1, ((4,1),\"left\"): 0.1, ((4,1),\"down\"): 0.9, ((4,1),\"right\"): 0.9,  # State (4,1)\n",
    "                ((1,2),\"up\"): 0.2, ((1,2),\"left\"): 0.8, ((1,2),\"down\"): 0.2, ((1,2),\"right\"): 0.8,  # State (1,2)\n",
    "                ((3,2),\"up\"): 0.1, ((3,2),\"left\"): 0.8, ((3,2),\"down\"): 0.1, ((3,2),\"right\"): 0,    # State (3,2)\n",
    "                ((1,3),\"up\"): 0.9, ((1,3),\"left\"): 0.9, ((1,3),\"down\"): 0.1, ((1,3),\"right\"): 0.1,  # State (1,3)\n",
    "                ((2,3),\"up\"): 0.8, ((2,3),\"left\"): 0.2, ((2,3),\"down\"): 0.8, ((2,3),\"right\"): 0.2,  # State (2,3)\n",
    "                ((3,3),\"up\"): 0.8, ((3,3),\"left\"): 0.1, ((3,3),\"down\"): 0, ((3,3),\"right\"): 0.1,    # State (3,3)\n",
    "            }\n",
    "            return sameStateTransitionTable[state,action]\n",
    "        elif state[0] == priorState[0] and state[1] == priorState[1]+1:\n",
    "            # state is above priorState\n",
    "            if action == \"up\": return 0.8\n",
    "            elif action == \"left\": return 0.1\n",
    "            elif action == \"down\": return 0\n",
    "            elif action == \"right\": return 0.1\n",
    "        elif state[0] == priorState[0] and state[1] == priorState[1]-1:\n",
    "            # state is below priorState\n",
    "            if action == \"up\": return 0\n",
    "            elif action == \"left\": return 0.1\n",
    "            elif action == \"down\": return 0.8\n",
    "            elif action == \"right\": return 0.1\n",
    "        elif state[1] == priorState[1] and state[0] == priorState[0]+1:\n",
    "            # state is to the right of priorState\n",
    "            if action == \"up\": return 0.1\n",
    "            elif action == \"left\": return 0\n",
    "            elif action == \"down\": return 0.1\n",
    "            elif action == \"right\": return 0.8\n",
    "        elif state[1] == priorState[1] and state[0] == priorState[0]-1:\n",
    "            # state is to the left of priorState\n",
    "            if action == \"up\": return 0.1\n",
    "            elif action == \"left\": return 0.8\n",
    "            elif action == \"down\": return 0.1\n",
    "            elif action == \"right\": return 0\n",
    "        else:\n",
    "            return 0    \n",
    "    \n",
    "    def setState(self, state, val):\n",
    "        if not self.stateIsValid(state):\n",
    "            print(\"Could not set state:\")\n",
    "            return self.invalidStateError(state)\n",
    "        col = state[0]\n",
    "        row = state[1]\n",
    "        self.states[abs(row-self.numRows)][col-1] = val\n",
    "    \n",
    "    def printStateSpace(self):\n",
    "        display(Matrix(self.states))\n",
    "        \n",
    "#     def stateUp(self, state):\n",
    "#         newState = (self.state[0], self.state[1]+1)\n",
    "#         if not self.stateIsValid(newState):\n",
    "#             print(\"Could not find state up - invalid state\")\n",
    "#             return none\n",
    "#         return newState\n",
    "    \n",
    "#     def stateDown(self, state):\n",
    "#         newState = (self.state[0], self.state[1]-1)\n",
    "#         if not self.stateIsValid(newState):\n",
    "#             print(\"Could not find state down - invalid state\")\n",
    "#             return none\n",
    "#         return newState\n",
    "    \n",
    "#     def stateLeft(self, state):\n",
    "#         newState = (self.state[0]-1, self.state[1])\n",
    "#         if not self.stateIsValid(newState):\n",
    "#             print(\"Could not find state left - invalid state\")\n",
    "#             return none\n",
    "#         return newState\n",
    "    \n",
    "#     def stateRight(self, state):\n",
    "#         newState = (self.state[0]+1, self.state[1])\n",
    "#         if not self.stateIsValid(newState):\n",
    "#             print(\"Could not find state right - invalid state\")\n",
    "#             return none\n",
    "#         return newState"
   ]
  },
  {
   "cell_type": "code",
   "execution_count": 3,
   "metadata": {},
   "outputs": [],
   "source": [
    "ss1 = StateSpace([\"up\",\"up\",\"up\"], [2,2,2])\n",
    "ss2 = StateSpace([\"up\",\"up\",\"up\"], [1,1,1])\n",
    "ss3 = StateSpace([\"right\",\"right\",\"up\"], [1,1,\"end\"], (2,3))\n",
    "ss4 = StateSpace([\"up\",\"right\",\"right\",\"right\"], [2,2,1,1], (1,1))\n",
    "stateSpaces = [ss1, ss2, ss3, ss4]"
   ]
  },
  {
   "cell_type": "code",
   "execution_count": 4,
   "metadata": {},
   "outputs": [
    {
     "data": {
      "text/latex": [
       "$\\displaystyle \\left[\\begin{matrix}0.0594 & 0.009 & 0.000911111111111111 & 0.0\\\\0.0072 & \\text{None} & 0.000177777777777778 & 0.0\\\\0.0018 & 0.0011 & 0.0003 & 0.0002\\end{matrix}\\right]$"
      ],
      "text/plain": [
       "⎡0.0594  0.009   0.000911111111111111   0.0  ⎤\n",
       "⎢                                            ⎥\n",
       "⎢0.0072   None   0.000177777777777778   0.0  ⎥\n",
       "⎢                                            ⎥\n",
       "⎣0.0018  0.0011         0.0003         0.0002⎦"
      ]
     },
     "metadata": {},
     "output_type": "display_data"
    },
    {
     "data": {
      "text/latex": [
       "$\\displaystyle \\left[\\begin{matrix}0.000733333333333333 & 0.001 & 0.0578 & 0.0\\\\8.88888888888889 \\cdot 10^{-5} & \\text{None} & 0.0144 & 0.0\\\\2.22222222222222 \\cdot 10^{-5} & 0.000211111111111111 & 0.0003 & 0.0002\\end{matrix}\\right]$"
      ],
      "text/plain": [
       "⎡0.000733333333333333         0.001          0.0578   0.0  ⎤\n",
       "⎢                                                          ⎥\n",
       "⎢8.88888888888889e-5           None          0.0144   0.0  ⎥\n",
       "⎢                                                          ⎥\n",
       "⎣2.22222222222222e-5   0.000211111111111111  0.0003  0.0002⎦"
      ]
     },
     "metadata": {},
     "output_type": "display_data"
    },
    {
     "data": {
      "text/latex": [
       "$\\displaystyle \\left[\\begin{matrix}0.0 & 0.0 & 0.0 & 0.072\\\\0.0 & \\text{None} & 0.0 & 0.0\\\\0.0 & 0.0 & 0.0 & 0.0\\end{matrix}\\right]$"
      ],
      "text/plain": [
       "⎡0.0  0.0   0.0  0.072⎤\n",
       "⎢                     ⎥\n",
       "⎢0.0  None  0.0   0.0 ⎥\n",
       "⎢                     ⎥\n",
       "⎣0.0  0.0   0.0   0.0 ⎦"
      ]
     },
     "metadata": {},
     "output_type": "display_data"
    },
    {
     "data": {
      "text/latex": [
       "$\\displaystyle \\left[\\begin{matrix}0.0009 & 0.0 & 0.0 & 0.0\\\\0.0 & \\text{None} & 0.0 & 0.0\\\\0.0009 & 0.0 & 0.5184 & 0.0\\end{matrix}\\right]$"
      ],
      "text/plain": [
       "⎡0.0009  0.0    0.0    0.0⎤\n",
       "⎢                         ⎥\n",
       "⎢ 0.0    None   0.0    0.0⎥\n",
       "⎢                         ⎥\n",
       "⎣0.0009  0.0   0.5184  0.0⎦"
      ]
     },
     "metadata": {},
     "output_type": "display_data"
    }
   ],
   "source": [
    "for ss in stateSpaces:\n",
    "    ss.computeBeliefStates()\n",
    "    ss.printStateSpace()"
   ]
  },
  {
   "cell_type": "code",
   "execution_count": 5,
   "metadata": {},
   "outputs": [],
   "source": [
    "ss = StateSpace([], [], (2,3))"
   ]
  },
  {
   "cell_type": "code",
   "execution_count": 6,
   "metadata": {},
   "outputs": [
    {
     "data": {
      "text/latex": [
       "$\\displaystyle \\left[\\begin{matrix}0 & 1 & 0 & 0\\\\0 & \\text{None} & 0 & 0\\\\0 & 0 & 0 & 0\\end{matrix}\\right]$"
      ],
      "text/plain": [
       "⎡0   1    0  0⎤\n",
       "⎢             ⎥\n",
       "⎢0  None  0  0⎥\n",
       "⎢             ⎥\n",
       "⎣0   0    0  0⎦"
      ]
     },
     "metadata": {},
     "output_type": "display_data"
    }
   ],
   "source": [
    "ss.printStateSpace()\n"
   ]
  },
  {
   "cell_type": "code",
   "execution_count": 7,
   "metadata": {},
   "outputs": [
    {
     "name": "stdout",
     "output_type": "stream",
     "text": [
      "Could not get transition probability - state error:\n",
      "State (2, 2) is invalid!\n",
      "Could not set state:\n",
      "State (2, 2) is invalid!\n"
     ]
    },
    {
     "data": {
      "text/latex": [
       "$\\displaystyle \\left[\\begin{matrix}0.1 & 0.2 & 0.1 & 0\\\\0.8 & \\text{None} & 0 & 0\\\\0.1 & 0.2 & 0.1 & 0.9\\end{matrix}\\right]$"
      ],
      "text/plain": [
       "⎡0.1  0.2   0.1   0 ⎤\n",
       "⎢                   ⎥\n",
       "⎢0.8  None   0    0 ⎥\n",
       "⎢                   ⎥\n",
       "⎣0.1  0.2   0.1  0.9⎦"
      ]
     },
     "metadata": {},
     "output_type": "display_data"
    }
   ],
   "source": [
    "for c in range(1,ss.numCols+1):\n",
    "    for r in range(1,ss.numRows+1):\n",
    "        state = (c,r)\n",
    "        newValue = ss.getTransitionProbability(state,state,\"right\")\n",
    "        ss.setState(state, newValue)\n",
    "ss.printStateSpace()"
   ]
  },
  {
   "cell_type": "code",
   "execution_count": null,
   "metadata": {},
   "outputs": [],
   "source": []
  },
  {
   "cell_type": "code",
   "execution_count": null,
   "metadata": {},
   "outputs": [],
   "source": []
  }
 ],
 "metadata": {
  "kernelspec": {
   "display_name": "Python 3",
   "language": "python",
   "name": "python3"
  },
  "language_info": {
   "codemirror_mode": {
    "name": "ipython",
    "version": 3
   },
   "file_extension": ".py",
   "mimetype": "text/x-python",
   "name": "python",
   "nbconvert_exporter": "python",
   "pygments_lexer": "ipython3",
   "version": "3.8.6"
  }
 },
 "nbformat": 4,
 "nbformat_minor": 4
}
