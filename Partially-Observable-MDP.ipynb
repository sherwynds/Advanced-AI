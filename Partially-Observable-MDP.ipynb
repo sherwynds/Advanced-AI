{
 "cells": [
  {
   "cell_type": "markdown",
   "metadata": {},
   "source": [
    "# CPSC 422 - Assignment 1\n",
    "\n",
    "## Question 3"
   ]
  },
  {
   "cell_type": "code",
   "execution_count": 67,
   "metadata": {},
   "outputs": [],
   "source": [
    "import numpy as np\n",
    "from sympy import Matrix, init_printing # https://stackoverflow.com/questions/13214809/pretty-print-2d-python-list\n",
    "init_printing()"
   ]
  },
  {
   "cell_type": "code",
   "execution_count": 68,
   "metadata": {},
   "outputs": [],
   "source": [
    "class StateSpace:\n",
    "    \n",
    "    numRows = 3\n",
    "    numCols = 4\n",
    "    \n",
    "    def __init__(self, initialBeliefState, actions, observations):\n",
    "        self.states = [[0, 0, 0, 0],\n",
    "                       [0, None, 0, 0],\n",
    "                       [0, 0, 0, 0]]\n",
    "        self.actions = actions\n",
    "        self.observations = observations\n",
    "    \n",
    "    def stateIsValid(self, state):\n",
    "        col = state[0]\n",
    "        row = state[1]\n",
    "        return col >= 1 and col <= self.numCols and row >= 1 and row <= self.numRows\n",
    "    \n",
    "    def getState(self, state):\n",
    "        if not self.stateIsValid(state):\n",
    "            print(\"Could not get state - index out of bounds\")\n",
    "        else:\n",
    "            col = state[0]\n",
    "            row = state[1]\n",
    "            return (self.states[abs(row-self.numRows)][col-1])\n",
    "    \n",
    "    def setState(self, state, val):\n",
    "        if not self.stateIsValid(state):\n",
    "            print(\"Could not set state - index out of bounds\")\n",
    "        else:\n",
    "            col = state[0]\n",
    "            row = state[1]\n",
    "            self.states[abs(row-self.numRows)][col-1] = val\n",
    "    \n",
    "    def printStateSpace(self):\n",
    "        display(Matrix(self.states))"
   ]
  },
  {
   "cell_type": "code",
   "execution_count": 69,
   "metadata": {},
   "outputs": [],
   "source": [
    "ss = StateSpace(None, None, None)"
   ]
  },
  {
   "cell_type": "code",
   "execution_count": 70,
   "metadata": {},
   "outputs": [
    {
     "data": {
      "text/latex": [
       "$\\displaystyle \\left[\\begin{matrix}0 & 0 & 0 & 0\\\\0 & \\text{None} & 0 & 0\\\\0 & 0 & 0 & 0\\end{matrix}\\right]$"
      ],
      "text/plain": [
       "⎡0   0    0  0⎤\n",
       "⎢             ⎥\n",
       "⎢0  None  0  0⎥\n",
       "⎢             ⎥\n",
       "⎣0   0    0  0⎦"
      ]
     },
     "metadata": {},
     "output_type": "display_data"
    }
   ],
   "source": [
    "ss.printStateSpace()\n"
   ]
  },
  {
   "cell_type": "code",
   "execution_count": null,
   "metadata": {},
   "outputs": [],
   "source": []
  },
  {
   "cell_type": "code",
   "execution_count": null,
   "metadata": {},
   "outputs": [],
   "source": []
  }
 ],
 "metadata": {
  "kernelspec": {
   "display_name": "Python 3",
   "language": "python",
   "name": "python3"
  },
  "language_info": {
   "codemirror_mode": {
    "name": "ipython",
    "version": 3
   },
   "file_extension": ".py",
   "mimetype": "text/x-python",
   "name": "python",
   "nbconvert_exporter": "python",
   "pygments_lexer": "ipython3",
   "version": "3.8.3"
  }
 },
 "nbformat": 4,
 "nbformat_minor": 4
}
