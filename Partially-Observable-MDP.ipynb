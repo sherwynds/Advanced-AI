{
 "cells": [
  {
   "cell_type": "markdown",
   "metadata": {},
   "source": [
    "# CPSC 422 - Assignment 1\n",
    "\n",
    "## Question 3\n",
    "\n",
    "The following program computes an agent's **belief state** in a **Partially Observable Markov Decision Process** (POMDP). A POMDP differs from a normal MDP in that an agent cannot directly observe its state, and must infer which state it is in given its actions and observations from its environment. A belief state is therefore the probability that an agent is in a given state in the state space.\n",
    "\n",
    "Below is the world our agent operates in. It can make one move at each timestep, and will stop moving once it reaches an 'end' state.\n",
    "\n",
    "![Grid Word](img/A1Q3.png)\n",
    "\n",
    "The **transition probabilities** determine which direction the agent will actually move in. For example, if the agent tries to move 'up', it could end up moving 'left' or 'right' with probabilities 0.1 each. If the agent runs into a wall, it will remain in its current state.\n",
    "\n",
    "![Transition Probabilities](img/Transition-Probabilities.png)\n",
    "\n",
    "The **observation probabilities** determine the probability of being in cell given an observation about the environment. Here, the three possible observations are observing 1-wall, 2-walls, or 'end' for a terminal state.\n",
    "\n",
    "![Observation Probabilities](img/Observation-Probabilities.png)\n",
    "\n",
    "Therefore, this program takes a sequence of actions and respective observations after each action, and computes the agent's belief in each state. If a starting state is provided, it starts with complete belief (1.0) in its starting state. Else, it assumes a uniform distribution across all possible starting states. During each action/observation, it computes the next belief state using the following formula:\n",
    "\n",
    "$$b'(s') = \\alpha P(e|s')\\sum_sP(s'|s,a)b(s)$$\n",
    "* $b'(s')$ is the next belief state\n",
    "* $P(e|s')$ is the probability of observing evidence $e$ in state $s'$\n",
    "* $P(s'|a,s)$ is the probability of arriving in state $s'$ after taking action $a$ from state $s$\n",
    "* $b(s)$ is the current belief state\n"
   ]
  },
  {
   "cell_type": "markdown",
   "metadata": {},
   "source": [
    "### Imports"
   ]
  },
  {
   "cell_type": "code",
   "execution_count": 1,
   "metadata": {},
   "outputs": [],
   "source": [
    "import numpy as np\n",
    "import copy\n",
    "from sympy import Matrix, init_printing\n",
    "init_printing()"
   ]
  },
  {
   "cell_type": "markdown",
   "metadata": {},
   "source": [
    "### StateSpace Class\n",
    "\n",
    "The following class represents a belief state space, and computes updates to that belief state space."
   ]
  },
  {
   "cell_type": "code",
   "execution_count": 2,
   "metadata": {},
   "outputs": [],
   "source": [
    "class StateSpace:\n",
    "    \n",
    "    numRows = 3\n",
    "    numCols = 4\n",
    "    invalidSpaces = {(2,2)}\n",
    "    uniformProbability = 1/9\n",
    "\n",
    "    def __init__(self, actions, observations, startingState=None):\n",
    "        self.states = [[0, 0, 0, 0],\n",
    "                       [0, None, 0, 0],\n",
    "                       [0, 0, 0, 0]]\n",
    "        self.setInitialBeliefState(startingState)\n",
    "        self.actions = actions\n",
    "        self.observations = observations\n",
    "        assert len(self.actions) == len(self.observations), \"Actions and observations must be of same length\"\n",
    "    \n",
    "    def computeBeliefStates(self, verbose=False):\n",
    "        if self.startingState:\n",
    "             print(f\"\\nStarting state is {str(self.startingState)}\")\n",
    "        else:\n",
    "            print(\"\\nNo starting state specified - will use a uniform distribution\")\n",
    "        if verbose:\n",
    "            self.printStateSpace()\n",
    "        for i in range(len(self.actions)):\n",
    "            self.updateBeliefStates(self.actions[i], self.observations[i], verbose)\n",
    "        print(f\"\\nFinal belief state after actions {str(self.actions)} and observations {str(self.observations)}:\")\n",
    "        self.printStateSpace()\n",
    "    \n",
    "    def updateBeliefStates(self, action, observation, verbose=False):\n",
    "        priorStates = copy.deepcopy(self.states)\n",
    "        for c in range(1,self.numCols+1):\n",
    "            for r in range(1,self.numRows+1):\n",
    "                state = (c,r)\n",
    "                if not self.stateIsValid(state):\n",
    "                    continue\n",
    "                neighbors = [(c,r+1), (c-1,r), (c,r-1), (c+1,r), (c,r)]\n",
    "                sumOfPriorStates = 0\n",
    "                for neighbor in neighbors:\n",
    "                    if self.stateIsValid(neighbor):\n",
    "                        sumOfPriorStates += (self.getTransitionProbability(state, neighbor, action)*self.getState(neighbor, priorStates))\n",
    "                self.setState(state, self.getObservationProbability(observation,state)*sumOfPriorStates)\n",
    "        self.normalizeStates()\n",
    "        if verbose:\n",
    "            print(f\"\\nAgent takes action {action} and observes {str(observation)}:\")\n",
    "            self.printStateSpace()\n",
    "\n",
    "    def normalizeStates(self):\n",
    "        total = 0\n",
    "        for c in range(1,self.numCols+1):\n",
    "            for r in range(1,self.numRows+1):\n",
    "                state = (c,r)\n",
    "                if self.stateIsValid(state):\n",
    "                    total += self.getState(state, self.states)\n",
    "        for c in range(1,self.numCols+1):\n",
    "            for r in range(1,self.numRows+1):\n",
    "                state = (c,r)\n",
    "                if self.stateIsValid(state):\n",
    "                    currentValue = self.getState(state, self.states)\n",
    "                    if currentValue != 0:\n",
    "                        self.setState(state, currentValue/total)\n",
    "                    \n",
    "    def setInitialBeliefState(self, startingState):\n",
    "        if startingState == None:\n",
    "            self.startingState = None\n",
    "            for c in range(1,self.numCols+1):\n",
    "                for r in range(1, self.numRows+1):\n",
    "                    state = (c,r)\n",
    "                    if self.stateIsValid(state) and not self.stateIsTerminal(state):\n",
    "                        self.setState(state, self.uniformProbability)\n",
    "        elif not self.stateIsValid(startingState):\n",
    "            print(\"Could not set starting state:\")\n",
    "            return self.invalidStateError(startingState)\n",
    "        else:\n",
    "            self.startingState = startingState\n",
    "            for c in range(1,self.numCols+1):\n",
    "                for r in range(1,self.numRows+1):\n",
    "                    state = (c,r)\n",
    "                    if self.stateIsValid(state):\n",
    "                        self.setState(state, 0)\n",
    "            self.setState(startingState, 1)\n",
    "\n",
    "    def stateIsValid(self, state):\n",
    "        col = state[0]\n",
    "        row = state[1]\n",
    "        return col >= 1 and col <= self.numCols and row >= 1 and row <= self.numRows and state not in self.invalidSpaces\n",
    "\n",
    "    def invalidStateError(self, state):\n",
    "        print(f\"State ({state[0]}, {state[1]}) is invalid!\")\n",
    "        return None\n",
    "    \n",
    "    def stateIsTerminal(self, state):\n",
    "        if not self.stateIsValid(state):\n",
    "            print(\"Could not determine if state is terminal:\")\n",
    "            return self.invalidStateError(state)\n",
    "        return (state[0] == 4 and (state[1] == 2 or state[1] == 3))\n",
    "\n",
    "    def getState(self, state, states):\n",
    "        if not self.stateIsValid(state):\n",
    "            print(\"Could not get state:\")\n",
    "            return self.invalidStateError(state)\n",
    "        col = state[0]\n",
    "        row = state[1]\n",
    "        return (states[abs(row-self.numRows)][col-1])\n",
    "    \n",
    "    def getObservationProbability(self, observation, state):\n",
    "        if not self.stateIsValid(state):\n",
    "            print(\"Could not get observation probability:\")\n",
    "            return self.invalidStateError(state)\n",
    "        if observation == \"end\" and self.stateIsTerminal(state): return 1\n",
    "        elif observation == \"end\" or self.stateIsTerminal(state): return 0\n",
    "        elif observation == 1:\n",
    "            if state[0] == 3: return 0.9\n",
    "            else: return 0.1\n",
    "        elif observation == 2:\n",
    "            if state[0] == 3: return 0.1\n",
    "            else: return 0.9\n",
    "    \n",
    "    def getTransitionProbability(self, state, priorState, action):\n",
    "        if not self.stateIsValid(state):\n",
    "            print(\"Could not get transition probability - state error:\")\n",
    "            return self.invalidStateError(state)\n",
    "        elif not self.stateIsValid(priorState):\n",
    "            print(\"Could not get transition probability - priorState error:\")\n",
    "            return self.invalidStateError(priorState)\n",
    "        elif self.stateIsTerminal(priorState): return 0\n",
    "        if state == priorState:\n",
    "            sameStateTransitionTable = {\n",
    "                ((1,1),\"up\"): 0.1, ((1,1),\"left\"): 0.9, ((1,1),\"down\"): 0.9, ((1,1),\"right\"): 0.1,  # State (1,1)\n",
    "                ((2,1),\"up\"): 0.8, ((2,1),\"left\"): 0.2, ((2,1),\"down\"): 0.8, ((2,1),\"right\"): 0.2,  # State (2,1)\n",
    "                ((3,1),\"up\"): 0, ((3,1),\"left\"): 0.1, ((3,1),\"down\"): 0.8, ((3,1),\"right\"): 0.1,    # State (3,1)\n",
    "                ((4,1),\"up\"): 0.1, ((4,1),\"left\"): 0.1, ((4,1),\"down\"): 0.9, ((4,1),\"right\"): 0.9,  # State (4,1)\n",
    "                ((1,2),\"up\"): 0.2, ((1,2),\"left\"): 0.8, ((1,2),\"down\"): 0.2, ((1,2),\"right\"): 0.8,  # State (1,2)\n",
    "                ((3,2),\"up\"): 0.1, ((3,2),\"left\"): 0.8, ((3,2),\"down\"): 0.1, ((3,2),\"right\"): 0,    # State (3,2)\n",
    "                ((1,3),\"up\"): 0.9, ((1,3),\"left\"): 0.9, ((1,3),\"down\"): 0.1, ((1,3),\"right\"): 0.1,  # State (1,3)\n",
    "                ((2,3),\"up\"): 0.8, ((2,3),\"left\"): 0.2, ((2,3),\"down\"): 0.8, ((2,3),\"right\"): 0.2,  # State (2,3)\n",
    "                ((3,3),\"up\"): 0.8, ((3,3),\"left\"): 0.1, ((3,3),\"down\"): 0, ((3,3),\"right\"): 0.1,    # State (3,3)\n",
    "            }\n",
    "            return sameStateTransitionTable[state,action]\n",
    "        elif state[0] == priorState[0] and state[1] == priorState[1]+1:\n",
    "            # state is above priorState\n",
    "            if action == \"up\": return 0.8\n",
    "            elif action == \"left\": return 0.1\n",
    "            elif action == \"down\": return 0\n",
    "            elif action == \"right\": return 0.1\n",
    "        elif state[0] == priorState[0] and state[1] == priorState[1]-1:\n",
    "            # state is below priorState\n",
    "            if action == \"up\": return 0\n",
    "            elif action == \"left\": return 0.1\n",
    "            elif action == \"down\": return 0.8\n",
    "            elif action == \"right\": return 0.1\n",
    "        elif state[1] == priorState[1] and state[0] == priorState[0]+1:\n",
    "            # state is to the right of priorState\n",
    "            if action == \"up\": return 0.1\n",
    "            elif action == \"left\": return 0\n",
    "            elif action == \"down\": return 0.1\n",
    "            elif action == \"right\": return 0.8\n",
    "        elif state[1] == priorState[1] and state[0] == priorState[0]-1:\n",
    "            # state is to the left of priorState\n",
    "            if action == \"up\": return 0.1\n",
    "            elif action == \"left\": return 0.8\n",
    "            elif action == \"down\": return 0.1\n",
    "            elif action == \"right\": return 0\n",
    "        else:\n",
    "            return 0    \n",
    "    \n",
    "    def setState(self, state, val):\n",
    "        if not self.stateIsValid(state):\n",
    "            print(\"Could not set state:\")\n",
    "            return self.invalidStateError(state)\n",
    "        col = state[0]\n",
    "        row = state[1]\n",
    "        self.states[abs(row-self.numRows)][col-1] = val\n",
    "    \n",
    "    def printStateSpace(self):\n",
    "        display(Matrix(self.states))"
   ]
  },
  {
   "cell_type": "markdown",
   "metadata": {},
   "source": [
    "### Inputs\n",
    "\n",
    "Create a `StateSpace` object for each set of actions, observations, and optional start state. Then run `computeBeliefStates()` on each `StateSpace` object. Note, `computeBeliefStates()` has an optional `verbose` argument, which will print out each individual action/observation, in addition to the final belief state.\n",
    "\n",
    "A few examples are below."
   ]
  },
  {
   "cell_type": "markdown",
   "metadata": {},
   "source": [
    "#### Piazza Test Case"
   ]
  },
  {
   "cell_type": "code",
   "execution_count": 3,
   "metadata": {},
   "outputs": [
    {
     "name": "stdout",
     "output_type": "stream",
     "text": [
      "\n",
      "No starting state specified - will use a uniform distribution\n"
     ]
    },
    {
     "data": {
      "text/latex": [
       "$\\displaystyle \\left[\\begin{matrix}0.111111111111111 & 0.111111111111111 & 0.111111111111111 & 0\\\\0.111111111111111 & \\text{None} & 0.111111111111111 & 0\\\\0.111111111111111 & 0.111111111111111 & 0.111111111111111 & 0.111111111111111\\end{matrix}\\right]$"
      ],
      "text/plain": [
       "⎡0.111111111111111  0.111111111111111  0.111111111111111          0        ⎤\n",
       "⎢                                                                          ⎥\n",
       "⎢0.111111111111111        None         0.111111111111111          0        ⎥\n",
       "⎢                                                                          ⎥\n",
       "⎣0.111111111111111  0.111111111111111  0.111111111111111  0.111111111111111⎦"
      ]
     },
     "metadata": {},
     "output_type": "display_data"
    },
    {
     "name": "stdout",
     "output_type": "stream",
     "text": [
      "\n",
      "Agent takes action up and observes 1:\n"
     ]
    },
    {
     "data": {
      "text/latex": [
       "$\\displaystyle \\left[\\begin{matrix}0.0592105263157895 & 0.0328947368421053 & 0.503289473684211 & 0.0\\\\0.0328947368421053 & \\text{None} & 0.266447368421053 & 0.0\\\\0.00657894736842105 & 0.0328947368421053 & 0.0592105263157895 & 0.00657894736842105\\end{matrix}\\right]$"
      ],
      "text/plain": [
       "⎡0.0592105263157895   0.0328947368421053  0.503289473684211           0.0     \n",
       "⎢                                                                             \n",
       "⎢0.0328947368421053          None         0.266447368421053           0.0     \n",
       "⎢                                                                             \n",
       "⎣0.00657894736842105  0.0328947368421053  0.0592105263157895  0.00657894736842\n",
       "\n",
       "   ⎤\n",
       "   ⎥\n",
       "   ⎥\n",
       "   ⎥\n",
       "105⎦"
      ]
     },
     "metadata": {},
     "output_type": "display_data"
    },
    {
     "name": "stdout",
     "output_type": "stream",
     "text": [
      "\n",
      "Agent takes action right and observes 2:\n"
     ]
    },
    {
     "data": {
      "text/latex": [
       "$\\displaystyle \\left[\\begin{matrix}0.0486298726360479 & 0.284832111153995 & 0.0605943651099962 & 0.0\\\\0.173678116557314 & \\text{None} & 0.0329988421458896 & 0.0\\\\0.0208413739868777 & 0.062524121960633 & 0.0345426476263991 & 0.281358548822848\\end{matrix}\\right]$"
      ],
      "text/plain": [
       "⎡0.0486298726360479  0.284832111153995  0.0605943651099962         0.0       ⎤\n",
       "⎢                                                                            ⎥\n",
       "⎢0.173678116557314         None         0.0329988421458896         0.0       ⎥\n",
       "⎢                                                                            ⎥\n",
       "⎣0.0208413739868777  0.062524121960633  0.0345426476263991  0.281358548822848⎦"
      ]
     },
     "metadata": {},
     "output_type": "display_data"
    },
    {
     "name": "stdout",
     "output_type": "stream",
     "text": [
      "\n",
      "Agent takes action up and observes 1:\n"
     ]
    },
    {
     "data": {
      "text/latex": [
       "$\\displaystyle \\left[\\begin{matrix}0.0998549256836285 & 0.112902489986223 & 0.439821531218351 & 0.0\\\\0.0243067911203569 & \\text{None} & 0.131634412722744 & 0.0\\\\0.00394164180330112 & 0.0262684878511665 & 0.146333451947554 & 0.0149362676666758\\end{matrix}\\right]$"
      ],
      "text/plain": [
       "⎡0.0998549256836285   0.112902489986223   0.439821531218351         0.0       \n",
       "⎢                                                                             \n",
       "⎢0.0243067911203569          None         0.131634412722744         0.0       \n",
       "⎢                                                                             \n",
       "⎣0.00394164180330112  0.0262684878511665  0.146333451947554  0.014936267666675\n",
       "\n",
       " ⎤\n",
       " ⎥\n",
       " ⎥\n",
       " ⎥\n",
       "8⎦"
      ]
     },
     "metadata": {},
     "output_type": "display_data"
    },
    {
     "name": "stdout",
     "output_type": "stream",
     "text": [
      "\n",
      "Final belief state after actions ['up', 'right', 'up'] and observations [1, 2, 1]:\n"
     ]
    },
    {
     "data": {
      "text/latex": [
       "$\\displaystyle \\left[\\begin{matrix}0.0998549256836285 & 0.112902489986223 & 0.439821531218351 & 0.0\\\\0.0243067911203569 & \\text{None} & 0.131634412722744 & 0.0\\\\0.00394164180330112 & 0.0262684878511665 & 0.146333451947554 & 0.0149362676666758\\end{matrix}\\right]$"
      ],
      "text/plain": [
       "⎡0.0998549256836285   0.112902489986223   0.439821531218351         0.0       \n",
       "⎢                                                                             \n",
       "⎢0.0243067911203569          None         0.131634412722744         0.0       \n",
       "⎢                                                                             \n",
       "⎣0.00394164180330112  0.0262684878511665  0.146333451947554  0.014936267666675\n",
       "\n",
       " ⎤\n",
       " ⎥\n",
       " ⎥\n",
       " ⎥\n",
       "8⎦"
      ]
     },
     "metadata": {},
     "output_type": "display_data"
    }
   ],
   "source": [
    "ss = StateSpace([\"up\", \"right\", \"up\"], [1,2,1])\n",
    "ss.computeBeliefStates(verbose=True)"
   ]
  },
  {
   "cell_type": "markdown",
   "metadata": {},
   "source": [
    "#### Other Test Cases"
   ]
  },
  {
   "cell_type": "code",
   "execution_count": 4,
   "metadata": {},
   "outputs": [],
   "source": [
    "ss1 = StateSpace([\"up\",\"up\",\"up\"], [2,2,2])\n",
    "ss2 = StateSpace([\"up\",\"up\",\"up\"], [1,1,1])\n",
    "ss3 = StateSpace([\"right\",\"right\",\"up\"], [1,1,\"end\"], (2,3))\n",
    "ss4 = StateSpace([\"up\",\"right\",\"right\",\"right\"], [2,2,1,1], (1,1))\n",
    "stateSpaces = [ss1, ss2, ss3, ss4]"
   ]
  },
  {
   "cell_type": "code",
   "execution_count": 5,
   "metadata": {},
   "outputs": [],
   "source": [
    "def runTests(stateSpaces, verbose=False):\n",
    "    for ss in stateSpaces:\n",
    "        ss.computeBeliefStates(verbose)"
   ]
  },
  {
   "cell_type": "code",
   "execution_count": 6,
   "metadata": {},
   "outputs": [
    {
     "name": "stdout",
     "output_type": "stream",
     "text": [
      "\n",
      "No starting state specified - will use a uniform distribution\n",
      "\n",
      "Final belief state after actions ['up', 'up', 'up'] and observations [2, 2, 2]:\n"
     ]
    },
    {
     "data": {
      "text/latex": [
       "$\\displaystyle \\left[\\begin{matrix}0.568370409228761 & 0.225729132204172 & 0.00313373243531962 & 0.0\\\\0.0359526443858046 & \\text{None} & 0.000260973127400388 & 0.0\\\\0.0201639169571179 & 0.143620351911547 & 0.00200793722319308 & 0.000760902526683695\\end{matrix}\\right]$"
      ],
      "text/plain": [
       "⎡0.568370409228761   0.225729132204172  0.00313373243531962           0.0     \n",
       "⎢                                                                             \n",
       "⎢0.0359526443858046        None         0.000260973127400388          0.0     \n",
       "⎢                                                                             \n",
       "⎣0.0201639169571179  0.143620351911547  0.00200793722319308   0.00076090252668\n",
       "\n",
       "    ⎤\n",
       "    ⎥\n",
       "    ⎥\n",
       "    ⎥\n",
       "3695⎦"
      ]
     },
     "metadata": {},
     "output_type": "display_data"
    },
    {
     "name": "stdout",
     "output_type": "stream",
     "text": [
      "\n",
      "No starting state specified - will use a uniform distribution\n",
      "\n",
      "Final belief state after actions ['up', 'up', 'up'] and observations [1, 1, 1]:\n"
     ]
    },
    {
     "data": {
      "text/latex": [
       "$\\displaystyle \\left[\\begin{matrix}0.00197953609603324 & 0.0135387010942808 & 0.964447334255283 & 0.0\\\\0.000118475975822438 & \\text{None} & 0.0183362729009477 & 0.0\\\\7.89839838816256 \\cdot 10^{-5} & 0.00064879701045621 & 0.000761631273144247 & 9.02674101504292 \\cdot 10^{-5}\\end{matrix}\\right]$"
      ],
      "text/plain": [
       "⎡0.00197953609603324   0.0135387010942808    0.964447334255283            0.0 \n",
       "⎢                                                                             \n",
       "⎢0.000118475975822438         None           0.0183362729009477           0.0 \n",
       "⎢                                                                             \n",
       "⎣7.89839838816256e-5   0.00064879701045621  0.000761631273144247  9.0267410150\n",
       "\n",
       "       ⎤\n",
       "       ⎥\n",
       "       ⎥\n",
       "       ⎥\n",
       "4292e-5⎦"
      ]
     },
     "metadata": {},
     "output_type": "display_data"
    },
    {
     "name": "stdout",
     "output_type": "stream",
     "text": [
      "\n",
      "Starting state is (2, 3)\n",
      "\n",
      "Final belief state after actions ['right', 'right', 'up'] and observations [1, 1, 'end']:\n"
     ]
    },
    {
     "data": {
      "text/latex": [
       "$\\displaystyle \\left[\\begin{matrix}0.0 & 0.0 & 0.0 & 0.55\\\\0.0 & \\text{None} & 0.0 & 0.45\\\\0.0 & 0.0 & 0.0 & 0.0\\end{matrix}\\right]$"
      ],
      "text/plain": [
       "⎡0.0  0.0   0.0  0.55⎤\n",
       "⎢                    ⎥\n",
       "⎢0.0  None  0.0  0.45⎥\n",
       "⎢                    ⎥\n",
       "⎣0.0  0.0   0.0  0.0 ⎦"
      ]
     },
     "metadata": {},
     "output_type": "display_data"
    },
    {
     "name": "stdout",
     "output_type": "stream",
     "text": [
      "\n",
      "Starting state is (1, 1)\n",
      "\n",
      "Final belief state after actions ['up', 'right', 'right', 'right'] and observations [2, 2, 1, 1]:\n"
     ]
    },
    {
     "data": {
      "text/latex": [
       "$\\displaystyle \\left[\\begin{matrix}0.0162579957356077 & 0.0189765458422175 & 0.124733475479744 & 0.0\\\\0.11841684434968 & \\text{None} & 0.174626865671642 & 0.0\\\\0.0162846481876333 & 0.020682302771855 & 0.353091684434968 & 0.156929637526652\\end{matrix}\\right]$"
      ],
      "text/plain": [
       "⎡0.0162579957356077  0.0189765458422175  0.124733475479744         0.0       ⎤\n",
       "⎢                                                                            ⎥\n",
       "⎢ 0.11841684434968          None         0.174626865671642         0.0       ⎥\n",
       "⎢                                                                            ⎥\n",
       "⎣0.0162846481876333  0.020682302771855   0.353091684434968  0.156929637526652⎦"
      ]
     },
     "metadata": {},
     "output_type": "display_data"
    }
   ],
   "source": [
    "runTests(stateSpaces)"
   ]
  }
 ],
 "metadata": {
  "kernelspec": {
   "display_name": "Python 3",
   "language": "python",
   "name": "python3"
  },
  "language_info": {
   "codemirror_mode": {
    "name": "ipython",
    "version": 3
   },
   "file_extension": ".py",
   "mimetype": "text/x-python",
   "name": "python",
   "nbconvert_exporter": "python",
   "pygments_lexer": "ipython3",
   "version": "3.8.5"
  }
 },
 "nbformat": 4,
 "nbformat_minor": 4
}
