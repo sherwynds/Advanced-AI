{
 "cells": [
  {
   "cell_type": "markdown",
   "metadata": {},
   "source": [
    "# CPSC 422 - Assignment 3\n",
    "## Question 3 - WalkSAT\n",
    "\n",
    "Let N be the # of variables and C be the # of clauses in a Conjunctive Normal Form (CNF) statement.\n",
    "\n",
    "For N fixed at 20, randomly generate 50 CNF 3SAT (3 literals per clause) problems for ratios of C/N from 1..10 (C=20..200). On each problem, terminate WalkSAT after 10 seconds. Compute:\n",
    "* How many times WalkSAT terminated successfully at each set of 50 problems (each C/N ratio)\n",
    "* Median number of flips for each set of 50 problems (each C/N ratio) where at least one problem terminated successfully"
   ]
  },
  {
   "cell_type": "markdown",
   "metadata": {},
   "source": [
    "### Approach\n",
    "\n",
    "The data on each C/N ratio (set of 50 runs) is stored as `.csv` files in `data/a3q3/`. This data was extracted using a custom shell script (see `walkstat.sh`). To use it, you must first download and install the implementation of WalkSAT from Henry Kautz [here](https://gitlab.com/HenryKautz/Walksat/-/tree/master/Walksat_v56). \n",
    "\n",
    "In `walksat.c`:\n",
    "* Change the max number of runs (`numrun`) to a _very_ large number so it does not terminate before 10 seconds is up, OR\n",
    "* Remove this constraint from `main()`\n",
    "\n",
    "Place `walkstat.sh` inside the `Walksat_v56/` directory, and run it.\n",
    "\n",
    "This will perform the random generation of 3SAT problems, and generate the data from each set of 50 problems."
   ]
  },
  {
   "cell_type": "markdown",
   "metadata": {},
   "source": [
    "### Necessary Imports"
   ]
  },
  {
   "cell_type": "code",
   "execution_count": 1,
   "metadata": {},
   "outputs": [],
   "source": [
    "import pandas as pd\n",
    "import matplotlib.pyplot as plt\n",
    "import statistics"
   ]
  },
  {
   "cell_type": "markdown",
   "metadata": {},
   "source": [
    "### Generate Aggregate Results"
   ]
  },
  {
   "cell_type": "code",
   "execution_count": 2,
   "metadata": {},
   "outputs": [
    {
     "name": "stdout",
     "output_type": "stream",
     "text": [
      "Results:\n"
     ]
    },
    {
     "data": {
      "text/html": [
       "<div>\n",
       "<style scoped>\n",
       "    .dataframe tbody tr th:only-of-type {\n",
       "        vertical-align: middle;\n",
       "    }\n",
       "\n",
       "    .dataframe tbody tr th {\n",
       "        vertical-align: top;\n",
       "    }\n",
       "\n",
       "    .dataframe thead th {\n",
       "        text-align: right;\n",
       "    }\n",
       "</style>\n",
       "<table border=\"1\" class=\"dataframe\">\n",
       "  <thead>\n",
       "    <tr style=\"text-align: right;\">\n",
       "      <th></th>\n",
       "      <th>C/N Ratio</th>\n",
       "      <th># Successful Terminations</th>\n",
       "      <th>Median Flips</th>\n",
       "    </tr>\n",
       "  </thead>\n",
       "  <tbody>\n",
       "    <tr>\n",
       "      <th>0</th>\n",
       "      <td>1</td>\n",
       "      <td>50</td>\n",
       "      <td>2.0</td>\n",
       "    </tr>\n",
       "    <tr>\n",
       "      <th>1</th>\n",
       "      <td>2</td>\n",
       "      <td>50</td>\n",
       "      <td>4.0</td>\n",
       "    </tr>\n",
       "    <tr>\n",
       "      <th>2</th>\n",
       "      <td>3</td>\n",
       "      <td>50</td>\n",
       "      <td>9.0</td>\n",
       "    </tr>\n",
       "    <tr>\n",
       "      <th>3</th>\n",
       "      <td>4</td>\n",
       "      <td>41</td>\n",
       "      <td>28.0</td>\n",
       "    </tr>\n",
       "    <tr>\n",
       "      <th>4</th>\n",
       "      <td>5</td>\n",
       "      <td>14</td>\n",
       "      <td>50.0</td>\n",
       "    </tr>\n",
       "    <tr>\n",
       "      <th>5</th>\n",
       "      <td>6</td>\n",
       "      <td>4</td>\n",
       "      <td>52.0</td>\n",
       "    </tr>\n",
       "    <tr>\n",
       "      <th>6</th>\n",
       "      <td>7</td>\n",
       "      <td>0</td>\n",
       "      <td>NaN</td>\n",
       "    </tr>\n",
       "    <tr>\n",
       "      <th>7</th>\n",
       "      <td>8</td>\n",
       "      <td>0</td>\n",
       "      <td>NaN</td>\n",
       "    </tr>\n",
       "    <tr>\n",
       "      <th>8</th>\n",
       "      <td>9</td>\n",
       "      <td>0</td>\n",
       "      <td>NaN</td>\n",
       "    </tr>\n",
       "    <tr>\n",
       "      <th>9</th>\n",
       "      <td>10</td>\n",
       "      <td>0</td>\n",
       "      <td>NaN</td>\n",
       "    </tr>\n",
       "  </tbody>\n",
       "</table>\n",
       "</div>"
      ],
      "text/plain": [
       "   C/N Ratio  # Successful Terminations  Median Flips\n",
       "0          1                         50           2.0\n",
       "1          2                         50           4.0\n",
       "2          3                         50           9.0\n",
       "3          4                         41          28.0\n",
       "4          5                         14          50.0\n",
       "5          6                          4          52.0\n",
       "6          7                          0           NaN\n",
       "7          8                          0           NaN\n",
       "8          9                          0           NaN\n",
       "9         10                          0           NaN"
      ]
     },
     "execution_count": 2,
     "metadata": {},
     "output_type": "execute_result"
    }
   ],
   "source": [
    "def getSummaryInfo():\n",
    "    CNRatio = range(1,11)\n",
    "    numSuccessful = []\n",
    "    medianFlips = []\n",
    "    for i in range(1,11):\n",
    "        data = pd.read_csv(f'data/a3q3/{i}.csv')\n",
    "        successes = list(data[data['numFlips']>-1]['numFlips'])\n",
    "        numSuccesses = len(successes)\n",
    "        numSuccessful.append(numSuccesses)\n",
    "        if numSuccesses == 0:\n",
    "            medianFlips.append(None)\n",
    "        else:\n",
    "            medianFlips.append(statistics.median(successes))          \n",
    "        \n",
    "    return pd.DataFrame(data={\"C/N Ratio\": CNRatio, \"# Successful Terminations\": numSuccessful, \"Median Flips\": medianFlips})\n",
    "\n",
    "summaryInfo = getSummaryInfo()\n",
    "print(\"Results:\")\n",
    "summaryInfo"
   ]
  },
  {
   "cell_type": "markdown",
   "metadata": {},
   "source": [
    "### Plot Number of Successful Terminations versus C/N Ratio"
   ]
  },
  {
   "cell_type": "code",
   "execution_count": 3,
   "metadata": {},
   "outputs": [
    {
     "data": {
      "image/png": "[encoded data removed]",
      "text/plain": [
       "<Figure size 432x288 with 1 Axes>"
      ]
     },
     "metadata": {
      "needs_background": "light"
     },
     "output_type": "display_data"
    }
   ],
   "source": [
    "def plotNumSuccessfulTerminations(summaryInfo):\n",
    "    plt.plot(summaryInfo['C/N Ratio'], summaryInfo['# Successful Terminations'])\n",
    "    plt.xlabel(\"C/N Ratio (Ratio of #Clauses over #Variables)\")\n",
    "    plt.ylabel(\"# of Successful Terminations (out of 50 problems)\")\n",
    "    plt.title(\"Number of Successful WalkSAT Terminations versus C/N Ratio\")\n",
    "    plt.show()\n",
    "plotNumSuccessfulTerminations(summaryInfo)"
   ]
  },
  {
   "cell_type": "markdown",
   "metadata": {},
   "source": [
    "### Plot Median Number of Flips versus C/N Ratio"
   ]
  },
  {
   "cell_type": "code",
   "execution_count": 4,
   "metadata": {},
   "outputs": [
    {
     "data": {
      "image/png": "[encoded data removed]",
      "text/plain": [
       "<Figure size 432x288 with 1 Axes>"
      ]
     },
     "metadata": {
      "needs_background": "light"
     },
     "output_type": "display_data"
    }
   ],
   "source": [
    "def plotMedianFlips(summaryInfo):\n",
    "    plt.plot(summaryInfo['C/N Ratio'], summaryInfo['Median Flips'])\n",
    "    plt.xlabel(\"C/N Ratio (Ratio of #Clauses over #Variables)\")\n",
    "    plt.ylabel(\"Median # of Flips (where termination successful)\")\n",
    "    plt.title(\"Median Number of Flips versus C/N Ratio\")\n",
    "    plt.show()\n",
    "\n",
    "plotMedianFlips(summaryInfo)"
   ]
  }
 ],
 "metadata": {
  "kernelspec": {
   "display_name": "Python 3",
   "language": "python",
   "name": "python3"
  },
  "language_info": {
   "codemirror_mode": {
    "name": "ipython",
    "version": 3
   },
   "file_extension": ".py",
   "mimetype": "text/x-python",
   "name": "python",
   "nbconvert_exporter": "python",
   "pygments_lexer": "ipython3",
   "version": "3.8.5"
  }
 },
 "nbformat": 4,
 "nbformat_minor": 4
}
